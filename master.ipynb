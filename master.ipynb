{
 "cells": [
  {
   "cell_type": "markdown",
   "metadata": {},
   "source": [
    "# Movie Analysis"
   ]
  },
  {
   "cell_type": "markdown",
   "metadata": {},
   "source": [
    "# Overview"
   ]
  },
  {
   "cell_type": "markdown",
   "metadata": {},
   "source": [
    "# Business Problem"
   ]
  },
  {
   "cell_type": "markdown",
   "metadata": {},
   "source": [
    "# Data Understanding"
   ]
  },
  {
   "cell_type": "markdown",
   "metadata": {},
   "source": [
    "# Data Preparation : Cleaning and Filtering"
   ]
  },
  {
   "cell_type": "markdown",
   "metadata": {},
   "source": [
    "## Import"
   ]
  },
  {
   "cell_type": "code",
   "execution_count": 7,
   "metadata": {},
   "outputs": [],
   "source": [
    "import pandas as pd\n",
    "import numpy as np\n",
    "from matplotlib import pyplot as plt\n",
    "%matplotlib inline\n",
    "\n",
    "from scipy import stats\n",
    "import seaborn as sns\n",
    "import statsmodels.api as sm\n",
    "from sklearn import linear_model\n",
    "import statsmodels.stats.power as smp\n",
    "import sqlite3\n",
    "import warnings\n",
    "warnings.simplefilter(\"ignore\")\n",
    "\n",
    "import requests\n",
    "from bs4 import BeautifulSoup"
   ]
  },
  {
   "cell_type": "markdown",
   "metadata": {},
   "source": [
    "## Master data set by Andrei and Namsoo"
   ]
  },
  {
   "cell_type": "code",
   "execution_count": null,
   "metadata": {},
   "outputs": [],
   "source": [
    "# Assign csv files and im.db\n",
    "movie_tmdb = pd.read_csv('zippedData/tmdb.movies.csv.gz')\n",
    "movie_budget = pd.read_csv('zippedData/tn.movie_budgets.csv.gz')\n",
    "theatre_weekend = pd.read_csv('zippedData/weekend_theaters_numbers.csv')\n",
    "conn = sqlite3.connect('zippedData/im.db')"
   ]
  },
  {
   "cell_type": "markdown",
   "metadata": {},
   "source": [
    "### Clean database and tables"
   ]
  },
  {
   "cell_type": "code",
   "execution_count": null,
   "metadata": {},
   "outputs": [],
   "source": [
    "# Assign database to dataframe\n",
    "sql_query = pd.read_sql_query ('''\n",
    "                               SELECT\n",
    "                               mb.original_title,\n",
    "                               mb.start_year,\n",
    "                               mb.runtime_minutes,\n",
    "                               mb.genres,\n",
    "                               mr.averagerating,\n",
    "                               mr.numvotes,\n",
    "                               p.primary_name,\n",
    "                               p.primary_profession\n",
    "                               FROM movie_akas\n",
    "                               JOIN movie_ratings mr\n",
    "                               USING(movie_id)\n",
    "                               JOIN movie_basics mb\n",
    "                               USING(movie_id)\n",
    "                               JOIN writers\n",
    "                               USING(movie_id)\n",
    "                               JOIN persons p\n",
    "                               USING(person_id)\n",
    "                               WHERE start_year >= 2010\n",
    "                               AND region = 'US'\n",
    "                               GROUP BY primary_title\n",
    "                               ''', conn)\n",
    "\n",
    "df = pd.DataFrame(sql_query, columns = [\n",
    "    'original_title', 'start_year', 'runtime_minutes', \n",
    "    'genres', 'averagerating', 'numvotes',\n",
    "    'primary_name', 'primary_profession']\n",
    ")"
   ]
  },
  {
   "cell_type": "code",
   "execution_count": null,
   "metadata": {},
   "outputs": [],
   "source": [
    "# Clean original_title by lowering case\n",
    "df.original_title = df.original_title.str.lower()\n",
    "df.genres = df.genres.str.lower()\n",
    "\n",
    "# Fillin missing values of runtime_minutes with mean\n",
    "df.runtime_minutes = df.runtime_minutes.fillna(df.runtime_minutes.mean())\n",
    "\n",
    "# Rename columns\n",
    "df = df.rename(columns={'original_title': 'movie',\n",
    "                        'start_year':'release_year'})\n",
    "\n",
    "# Drop missing values\n",
    "df = df.dropna(subset=['genres', 'primary_profession'])"
   ]
  },
  {
   "cell_type": "code",
   "execution_count": null,
   "metadata": {},
   "outputs": [],
   "source": [
    "# Clean the movie_budget table\n",
    "movie_budget.release_date = pd.to_datetime(movie_budget.release_date) # Changing datatype for next filtering\n",
    "movie_budget = movie_budget[movie_budget.release_date >= '2010-01-01'] # Filtering target duration\n",
    "movie_budget = movie_budget.drop(columns=['id',\n",
    "                                          'worldwide_gross',\n",
    "                                          'release_date'\n",
    "                                          ]\n",
    "                                          ) # Dropping unrelevant data\n",
    "movie_budget.movie = movie_budget.movie.str.lower() # Lowring title case\n",
    "\n"
   ]
  },
  {
   "cell_type": "code",
   "execution_count": null,
   "metadata": {},
   "outputs": [],
   "source": [
    "# Clean the theaters_numbers table\n",
    "theatre_weekend = theatre_weekend.drop(columns=['year', 'rank']) # Dropping unrelevant data\n",
    "theatre_weekend = theatre_weekend.dropna(subset=['domestic_box_office',\n",
    "                                                 'opening_weekend_box_office',\n",
    "                                                 'movie', \n",
    "                                                ]\n",
    "                                                ) # Dropping missing values which make noise in analysis\n",
    "theatre_weekend.movie = theatre_weekend.movie.str.lower() # Lowring title case\n",
    "\n",
    "# Fill-in missing values with a correct category\n",
    "theatre_weekend.distributor = theatre_weekend.distributor.fillna(\"No Distributor\") \n",
    "\n"
   ]
  },
  {
   "cell_type": "code",
   "execution_count": null,
   "metadata": {},
   "outputs": [],
   "source": [
    "# Clean the movie_tmdb table\n",
    "movie_tmdb.release_date = pd.to_datetime(movie_tmdb.release_date) # Changing datatype for next filtering\n",
    "movie_tmdb = movie_tmdb[movie_tmdb.release_date >= '2010-01-01'] # Filtering target duration\n",
    "\n",
    "# Dropping unrelevant data\n",
    "movie_tmdb = movie_tmdb.drop(columns=['Unnamed: 0', \n",
    "                                      'genre_ids', \n",
    "                                      'id', \n",
    "                                      'original_language',\n",
    "                                      'original_title'\n",
    "                                      ]\n",
    "                                      )\n",
    "\n",
    "movie_tmdb.title = movie_tmdb.title.str.lower() # Lowring title case\n",
    "movie_tmdb =movie_tmdb.rename(columns={'title':'movie'}) # Rename a column for merging\n",
    "\n"
   ]
  },
  {
   "cell_type": "markdown",
   "metadata": {},
   "source": [
    "### Merging Data Sets and Making calculations and columns in order"
   ]
  },
  {
   "cell_type": "code",
   "execution_count": null,
   "metadata": {},
   "outputs": [],
   "source": [
    "# Merging Data Sets using the movie column\n",
    "merge_1 = pd.merge(movie_tmdb, df, on=\"movie\")\n",
    "merge_2 = pd.merge(merge_1,theatre_weekend, on=\"movie\")\n",
    "data = pd.merge(merge_2,movie_budget, on=\"movie\")"
   ]
  },
  {
   "cell_type": "code",
   "execution_count": null,
   "metadata": {},
   "outputs": [],
   "source": [
    "conn4 = sqlite3.connect('zippedData/master_andrei_sql.db') # Create a sql db and Connect\n",
    "data.to_sql('master_andrei_sql', conn4, if_exists='replace', index=False) # Transform df to db\n",
    "\n",
    "# Making calcumations and columns in order\n",
    "master_crafted = pd.read_sql(\n",
    "    \"\"\"\n",
    "    WITH modified AS \n",
    "    (\n",
    "    SELECT\n",
    "        DISTINCT movie AS movie_name,\n",
    "        CAST(REPLACE(REPLACE(domestic_gross, '$', ''), ',', '') AS FLOAT) AS domestic_gross_numeric,\n",
    "        CAST(REPLACE(REPLACE(production_budget, '$', ''), ',', '') AS FLOAT) AS production_budget_numeric,\n",
    "        CAST(REPLACE(REPLACE(opening_weekend_box_office, '$', ''), ',', '') AS FLOAT) AS opening_weekend_boxoffice,\n",
    "        *\n",
    "    FROM master_andrei_sql\n",
    "    ORDER BY movie\n",
    "    )\n",
    "\n",
    "    SELECT\n",
    "        movie_name,\n",
    "        genres,\n",
    "        ROUND(domestic_gross_numeric/ production_budget_numeric*100, 2) AS percentage_ROI_gross_budget,\n",
    "        domestic_gross_numeric AS gross,\n",
    "        production_budget_numeric AS budget,\n",
    "        opening_weekend_boxoffice,\n",
    "        (vote_average + averagerating)/2 AS average_rating,\n",
    "        ROUND((vote_count + numvotes)/2, 0) AS number_vote,\n",
    "        primary_name,\n",
    "        primary_profession,\n",
    "        release_date,\n",
    "        release_year,\n",
    "        runtime_minutes,\n",
    "        distributor,\n",
    "        max_theatre_count\n",
    "\n",
    "    FROM modified \n",
    "    ORDER BY release_date\n",
    "    ;\n",
    "    \"\"\"\n",
    ", conn4\n",
    ")"
   ]
  },
  {
   "cell_type": "markdown",
   "metadata": {},
   "source": [
    "### Sanity Check of Master Data set and Create a csv master file"
   ]
  },
  {
   "cell_type": "code",
   "execution_count": null,
   "metadata": {},
   "outputs": [],
   "source": [
    "# de-duplicate on movie_name and release_year\n",
    "master_dedup = master_crafted.drop_duplicates(subset=['movie_name', 'release_year']) \n",
    "\n",
    "master_dedup.to_csv('zippedData/master_dedup_v2.csv', index=False) # Create a csv file for further analysis"
   ]
  },
  {
   "cell_type": "markdown",
   "metadata": {},
   "source": [
    "# Data Analysis"
   ]
  },
  {
   "cell_type": "markdown",
   "metadata": {},
   "source": [
    "## Analysis by Kari"
   ]
  },
  {
   "cell_type": "code",
   "execution_count": 37,
   "metadata": {},
   "outputs": [],
   "source": [
    "master_final_df = pd.read_csv('zippedData/master_dedup_v2.csv')"
   ]
  },
  {
   "cell_type": "markdown",
   "metadata": {},
   "source": [
    "### Two Sample T-Test: One-tailed\n",
    "\n",
    "**Null Hypothesis:** The mean ROI of horror movies is less than or equal to that of non-horror movies.\n",
    "\n",
    "**Alternative Hypothesis:** The mean ROI of horror movies is greater than that of non-horror movies.\n"
   ]
  },
  {
   "cell_type": "markdown",
   "metadata": {},
   "source": [
    "#### Create Sample Groups"
   ]
  },
  {
   "cell_type": "code",
   "execution_count": 38,
   "metadata": {},
   "outputs": [
    {
     "name": "stdout",
     "output_type": "stream",
     "text": [
      "<class 'pandas.core.frame.DataFrame'>\n",
      "Index: 150 entries, 11 to 1275\n",
      "Data columns (total 15 columns):\n",
      " #   Column                       Non-Null Count  Dtype  \n",
      "---  ------                       --------------  -----  \n",
      " 0   movie_name                   150 non-null    object \n",
      " 1   genres                       150 non-null    object \n",
      " 2   percentage_ROI_gross_budget  150 non-null    float64\n",
      " 3   gross                        150 non-null    float64\n",
      " 4   budget                       150 non-null    float64\n",
      " 5   opening_weekend_boxoffice    150 non-null    float64\n",
      " 6   average_rating               150 non-null    float64\n",
      " 7   number_vote                  150 non-null    float64\n",
      " 8   primary_name                 150 non-null    object \n",
      " 9   primary_profession           150 non-null    object \n",
      " 10  release_date                 150 non-null    object \n",
      " 11  release_year                 150 non-null    int64  \n",
      " 12  runtime_minutes              150 non-null    float64\n",
      " 13  distributor                  150 non-null    object \n",
      " 14  max_theatre_count            150 non-null    object \n",
      "dtypes: float64(7), int64(1), object(7)\n",
      "memory usage: 18.8+ KB\n"
     ]
    }
   ],
   "source": [
    "# Split data into two groups (samples)\n",
    "horror_movies = master_final_df[master_final_df['genres'].str.contains('horror', case=False, regex=True)]\n",
    "non_horror_movies = master_final_df[~master_final_df['genres'].str.contains('horror', case=False, regex=True)]\n",
    "\n",
    "# Sanity check\n",
    "horror_movies.info()"
   ]
  },
  {
   "cell_type": "code",
   "execution_count": 39,
   "metadata": {},
   "outputs": [
    {
     "name": "stdout",
     "output_type": "stream",
     "text": [
      "<class 'pandas.core.frame.DataFrame'>\n",
      "Index: 1140 entries, 0 to 1289\n",
      "Data columns (total 15 columns):\n",
      " #   Column                       Non-Null Count  Dtype  \n",
      "---  ------                       --------------  -----  \n",
      " 0   movie_name                   1140 non-null   object \n",
      " 1   genres                       1140 non-null   object \n",
      " 2   percentage_ROI_gross_budget  1140 non-null   float64\n",
      " 3   gross                        1140 non-null   float64\n",
      " 4   budget                       1140 non-null   float64\n",
      " 5   opening_weekend_boxoffice    1140 non-null   float64\n",
      " 6   average_rating               1140 non-null   float64\n",
      " 7   number_vote                  1140 non-null   float64\n",
      " 8   primary_name                 1140 non-null   object \n",
      " 9   primary_profession           1140 non-null   object \n",
      " 10  release_date                 1140 non-null   object \n",
      " 11  release_year                 1140 non-null   int64  \n",
      " 12  runtime_minutes              1140 non-null   float64\n",
      " 13  distributor                  1140 non-null   object \n",
      " 14  max_theatre_count            1140 non-null   object \n",
      "dtypes: float64(7), int64(1), object(7)\n",
      "memory usage: 142.5+ KB\n"
     ]
    }
   ],
   "source": [
    "# Sanity check\n",
    "non_horror_movies.info()"
   ]
  },
  {
   "cell_type": "markdown",
   "metadata": {},
   "source": [
    "#### Interpretation of Two-Sample T-Test (One-Tailed)\n",
    "\n",
    "The result of this analysis indicates that there is a 95% chance that the mean ROI of horror movies is significantly greater than the mean ROI of non-horror movies. \n"
   ]
  },
  {
   "cell_type": "code",
   "execution_count": 40,
   "metadata": {},
   "outputs": [
    {
     "name": "stdout",
     "output_type": "stream",
     "text": [
      "T-statistic: 2.890674145719811\n",
      "P-value: 0.004417071508529201\n",
      "Result: Reject the null hypothesis\n"
     ]
    }
   ],
   "source": [
    "# Set the significance level\n",
    "alpha = 0.05\n",
    "\n",
    "# Perform a two-sample t-test to compare the mean 'ROI' of horror and non-horror movies\n",
    "t_statistic, p_value = stats.ttest_ind(horror_movies['percentage_ROI_gross_budget'], non_horror_movies['percentage_ROI_gross_budget'], equal_var=False)\n",
    "\n",
    "\n",
    "# Determine whether to reject the null\n",
    "if p_value < alpha and t_statistic < 0:  \n",
    "    result = 'Reject the null hypothesis'\n",
    "    \n",
    "elif p_value < alpha and t_statistic > 0:  \n",
    "    result = 'Reject the null hypothesis'\n",
    "else:\n",
    "    result = 'Fail to reject the null hypothesis'\n",
    "\n",
    "\n",
    "# Display the results\n",
    "print(f'T-statistic: {t_statistic}')\n",
    "print(f'P-value: {p_value}')\n",
    "print(f'Result: {result}')\n"
   ]
  },
  {
   "cell_type": "markdown",
   "metadata": {},
   "source": [
    "#### Power Analysis of Two-Sample T-Test"
   ]
  },
  {
   "cell_type": "code",
   "execution_count": 41,
   "metadata": {},
   "outputs": [
    {
     "data": {
      "text/plain": [
       "0.2362376885444173"
      ]
     },
     "execution_count": 41,
     "metadata": {},
     "output_type": "execute_result"
    }
   ],
   "source": [
    "# Determine effect size using Cohen's d for a two-sample test\n",
    "\n",
    "horror_mean =  horror_movies['percentage_ROI_gross_budget'].mean()\n",
    "non_horror_mean =  non_horror_movies['percentage_ROI_gross_budget'].mean()\n",
    "horror_std =   horror_movies['percentage_ROI_gross_budget'].std()\n",
    "non_horror_std =   horror_movies['percentage_ROI_gross_budget'].std()\n",
    "\n",
    "horror_sample = 150\n",
    "non_horror_sample = 1140\n",
    "\n",
    "# Calculate pooled standard deviation\n",
    "pooled_std = np.sqrt(((horror_sample - 1) * horror_std**2 + (non_horror_sample - 1) * non_horror_std**2) / (horror_sample + non_horror_sample - 2))\n",
    "\n",
    "# Calculate Cohen's d\n",
    "effect_sizes = (horror_mean - non_horror_mean) / pooled_std\n",
    "\n",
    "effect_sizes\n"
   ]
  },
  {
   "cell_type": "code",
   "execution_count": 42,
   "metadata": {},
   "outputs": [
    {
     "name": "stdout",
     "output_type": "stream",
     "text": [
      "Statistical Power: 0.7757482834707635\n"
     ]
    }
   ],
   "source": [
    "# Set the parameters for the power analysis\n",
    "effect_size = .236238  # Set effect_size according to Cohen's d calculation\n",
    "alpha = 0.05  # Set significance level\n",
    "alternative = 'two-sided'\n",
    "\n",
    "# Perform the power analysis with given sample sizes\n",
    "analysis = smp.TTestIndPower()\n",
    "result = analysis.solve_power(effect_size=effect_size, alpha=alpha, nobs1=horror_sample, ratio=non_horror_sample/horror_sample, alternative=alternative)\n",
    "\n",
    "print(f'Statistical Power: {result}')\n"
   ]
  },
  {
   "cell_type": "markdown",
   "metadata": {},
   "source": [
    "##### Interpretation of Power Analysis\n",
    "\n",
    "A statistical power of 0.7757 means that there is a 77.57% chance that if there is a real difference or effect between the horror ROI and non_horror ROI, our test will detect it. This is a reasonably good statistical power and we are slightly reducing the risk of a Type II error (false-negative)."
   ]
  },
  {
   "cell_type": "markdown",
   "metadata": {},
   "source": [
    "### Multiple Linear Regression Model\n",
    "\n",
    "#### Independent Variables\n",
    "\n",
    "**Null Hypothesis:** The variables have no effect on ROI, and their coefficients are equal to zero.\n",
    "\n",
    "**Alternative Hypothesis:** The variables have an effect on ROI, and their coefficients are not equal to zero.\n",
    "\n",
    "\n",
    "#### Dependent Variable\n",
    "\n",
    "**Null Hypothesis:** The intercept represents a baseline ROI when all independent variables are zero.\n",
    "\n",
    "**Alternative Hypothesis:** The intercept does not represent a meaningful baseline ROI when all independent variables are zero.\n"
   ]
  },
  {
   "cell_type": "code",
   "execution_count": 43,
   "metadata": {},
   "outputs": [
    {
     "data": {
      "image/png": "[encoded data removed]",
      "text/plain": [
       "<Figure size 640x480 with 1 Axes>"
      ]
     },
     "metadata": {},
     "output_type": "display_data"
    },
    {
     "name": "stdout",
     "output_type": "stream",
     "text": [
      "                                 OLS Regression Results                                \n",
      "=======================================================================================\n",
      "Dep. Variable:     percentage_ROI_gross_budget   R-squared:                       0.020\n",
      "Model:                                     OLS   Adj. R-squared:                  0.018\n",
      "Method:                          Least Squares   F-statistic:                     8.800\n",
      "Date:                         Fri, 27 Oct 2023   Prob (F-statistic):           8.90e-06\n",
      "Time:                                 14:48:39   Log-Likelihood:                -10336.\n",
      "No. Observations:                         1290   AIC:                         2.068e+04\n",
      "Df Residuals:                             1286   BIC:                         2.070e+04\n",
      "Df Model:                                    3                                         \n",
      "Covariance Type:                     nonrobust                                         \n",
      "==================================================================================\n",
      "                     coef    std err          t      P>|t|      [0.025      0.975]\n",
      "----------------------------------------------------------------------------------\n",
      "const            518.0879    158.837      3.262      0.001     206.479     829.697\n",
      "budget         -2.149e-06   4.25e-07     -5.053      0.000   -2.98e-06   -1.31e-06\n",
      "average_rating   -40.4217     25.925     -1.559      0.119     -91.282      10.439\n",
      "number_vote        0.0010      0.000      3.244      0.001       0.000       0.002\n",
      "==============================================================================\n",
      "Omnibus:                     3102.785   Durbin-Watson:                   1.926\n",
      "Prob(Omnibus):                  0.000   Jarque-Bera (JB):         25716739.535\n",
      "Skew:                          23.305   Prob(JB):                         0.00\n",
      "Kurtosis:                     693.129   Cond. No.                     5.87e+08\n",
      "==============================================================================\n",
      "\n",
      "Notes:\n",
      "[1] Standard Errors assume that the covariance matrix of the errors is correctly specified.\n",
      "[2] The condition number is large, 5.87e+08. This might indicate that there are\n",
      "strong multicollinearity or other numerical problems.\n"
     ]
    }
   ],
   "source": [
    "# Add constant intercept to variables\n",
    "X = sm.add_constant(master_final_df[['budget', 'average_rating', 'number_vote']])\n",
    "\n",
    "# Dependent variable\n",
    "y = master_final_df['percentage_ROI_gross_budget']\n",
    "\n",
    "# Apply fit test to model\n",
    "model = sm.OLS(y, X).fit()\n",
    "\n",
    "# Predicted values from model\n",
    "predicted_values = model.predict(X)\n",
    "\n",
    "# Create a scatter plot of observed vs. predicted ROI values\n",
    "plt.scatter(y, predicted_values)\n",
    "plt.xlabel('Observed ROI')\n",
    "plt.ylabel('Predicted ROI')\n",
    "plt.title('Observed vs. Predicted ROI')\n",
    "plt.grid(True)\n",
    "plt.show()\n",
    "\n",
    "\n",
    "# Regression summary\n",
    "print(model.summary())\n"
   ]
  },
  {
   "cell_type": "markdown",
   "metadata": {},
   "source": [
    "#### Interpretation\n",
    "\n",
    "The low R-squared value suggests that this model may not be a good fit for explaining ROI. Additional factors or variables may be needed to improve its performance.\n",
    "\n",
    "However, the results indicate that 'budget' and 'number_vote' are statistically significant predictors of ROI because they have very low p-values, while 'average_rating' may not be relevant in explaining variations in ROI."
   ]
  },
  {
   "cell_type": "markdown",
   "metadata": {},
   "source": [
    "### Linear Regression Model: budget & gross (revenue)\n",
    "\n",
    "#### Independent Variable\n",
    "\n",
    "**Null Hypothesis:** The variable has no effect on revenue, and the coefficient is equal to zero.\n",
    "\n",
    "**Alternative Hypothesis:** The variable has an effect on revenue, and the coefficient is not equal to zero.\n",
    "\n",
    "\n",
    "#### Dependent Variable\n",
    "\n",
    "**Null Hypothesis:** The intercept represents a baseline revenue when the independent variable is zero.\n",
    "\n",
    "**Alternative Hypothesis:** The intercept does not represent a meaningful baseline revenue when the independent variable is zero."
   ]
  },
  {
   "cell_type": "code",
   "execution_count": 44,
   "metadata": {},
   "outputs": [
    {
     "data": {
      "image/png": "[encoded data removed]",
      "text/plain": [
       "<Figure size 640x480 with 1 Axes>"
      ]
     },
     "metadata": {},
     "output_type": "display_data"
    },
    {
     "name": "stdout",
     "output_type": "stream",
     "text": [
      "                            OLS Regression Results                            \n",
      "==============================================================================\n",
      "Dep. Variable:                  gross   R-squared:                       0.179\n",
      "Model:                            OLS   Adj. R-squared:                  0.174\n",
      "Method:                 Least Squares   F-statistic:                     32.29\n",
      "Date:                Fri, 27 Oct 2023   Prob (F-statistic):           6.83e-08\n",
      "Time:                        14:48:51   Log-Likelihood:                -2843.0\n",
      "No. Observations:                 150   AIC:                             5690.\n",
      "Df Residuals:                     148   BIC:                             5696.\n",
      "Df Model:                           1                                         \n",
      "Covariance Type:            nonrobust                                         \n",
      "==============================================================================\n",
      "                 coef    std err          t      P>|t|      [0.025      0.975]\n",
      "------------------------------------------------------------------------------\n",
      "const       2.456e+07   4.07e+06      6.039      0.000    1.65e+07    3.26e+07\n",
      "budget         0.6167      0.109      5.682      0.000       0.402       0.831\n",
      "==============================================================================\n",
      "Omnibus:                      132.231   Durbin-Watson:                   1.876\n",
      "Prob(Omnibus):                  0.000   Jarque-Bera (JB):             1701.963\n",
      "Skew:                           3.180   Prob(JB):                         0.00\n",
      "Kurtosis:                      18.227   Cond. No.                     4.50e+07\n",
      "==============================================================================\n",
      "\n",
      "Notes:\n",
      "[1] Standard Errors assume that the covariance matrix of the errors is correctly specified.\n",
      "[2] The condition number is large, 4.5e+07. This might indicate that there are\n",
      "strong multicollinearity or other numerical problems.\n"
     ]
    }
   ],
   "source": [
    "# Add constant intercept to variables\n",
    "X = sm.add_constant(horror_movies[['budget']])\n",
    "\n",
    "# Dependent variable\n",
    "y = horror_movies['gross']\n",
    "\n",
    "# Apply fit test to model\n",
    "model = sm.OLS(y, X).fit()\n",
    "\n",
    "# Predicted values from model\n",
    "predicted_values = model.predict(X)\n",
    "\n",
    "# Create a scatter plot of observed vs. predicted ROI values\n",
    "plt.scatter(y, predicted_values)\n",
    "plt.xlabel('Observed Revenue')\n",
    "plt.ylabel('Predicted Revenue')\n",
    "plt.title('Observed vs. Predicted Revenue')\n",
    "plt.grid(True)\n",
    "\n",
    "# Calculate the minimum and maximum 'gross' values\n",
    "min_gross = min(y)\n",
    "max_gross = max(y)\n",
    "\n",
    "# Create x values for the trendline (from min to max 'gross')\n",
    "x_trendline = np.linspace(min_gross, max_gross, 100)\n",
    "\n",
    "# Calculate corresponding predicted values for the trendline\n",
    "y_trendline = model.predict(sm.add_constant(x_trendline))\n",
    "\n",
    "# Add a regression line\n",
    "plt.plot(x_trendline, y_trendline, color='red', linewidth=2, label='Trendline')\n",
    "\n",
    "\n",
    "plt.show()\n",
    "\n",
    "\n",
    "# Regression summary\n",
    "print(model.summary())\n"
   ]
  },
  {
   "cell_type": "markdown",
   "metadata": {},
   "source": [
    "#### Interpretation\n",
    "\n",
    "The low R-squared value suggests that budget explains only a small portion (17.9%) of the variance in revenue for horror movies.\n",
    "\n",
    "However, the results indicate that horror movie budgets are a statistically significant predictor of horror movie revenue because of its low p-value for the F-statistic and coefficient. \n",
    "\n",
    "Therefore, although budget is statistically significant in this model, there are other variables that can influence horror movie revenue."
   ]
  },
  {
   "cell_type": "markdown",
   "metadata": {},
   "source": [
    "### Multiple Linear Regression Model: budget, genres, primary_name"
   ]
  },
  {
   "cell_type": "code",
   "execution_count": 45,
   "metadata": {},
   "outputs": [
    {
     "name": "stdout",
     "output_type": "stream",
     "text": [
      "<class 'pandas.core.frame.DataFrame'>\n",
      "RangeIndex: 1290 entries, 0 to 1289\n",
      "Data columns (total 17 columns):\n",
      " #   Column                       Non-Null Count  Dtype  \n",
      "---  ------                       --------------  -----  \n",
      " 0   movie_name                   1290 non-null   object \n",
      " 1   genres                       1290 non-null   object \n",
      " 2   percentage_ROI_gross_budget  1290 non-null   float64\n",
      " 3   gross                        1290 non-null   float64\n",
      " 4   budget                       1290 non-null   float64\n",
      " 5   opening_weekend_boxoffice    1290 non-null   float64\n",
      " 6   average_rating               1290 non-null   float64\n",
      " 7   number_vote                  1290 non-null   float64\n",
      " 8   primary_name                 1290 non-null   object \n",
      " 9   primary_profession           1290 non-null   object \n",
      " 10  release_date                 1290 non-null   object \n",
      " 11  release_year                 1290 non-null   int64  \n",
      " 12  runtime_minutes              1290 non-null   float64\n",
      " 13  distributor                  1290 non-null   object \n",
      " 14  max_theatre_count            1290 non-null   object \n",
      " 15  genres_encoded               1290 non-null   int64  \n",
      " 16  primary_name_encoded         1290 non-null   int64  \n",
      "dtypes: float64(7), int64(3), object(7)\n",
      "memory usage: 171.5+ KB\n"
     ]
    }
   ],
   "source": [
    "from sklearn.preprocessing import LabelEncoder\n",
    "\n",
    "# Create separate LabelEncoder instances for 'Genre' and 'Director'\n",
    "label_encoder_genres = LabelEncoder()\n",
    "label_encoder_primary_name = LabelEncoder()\n",
    "\n",
    "# Apply label encoding to 'Genre' column\n",
    "master_final_df['genres_encoded'] = label_encoder_genres.fit_transform(master_final_df['genres'])\n",
    "\n",
    "# Apply label encoding to 'Director' column\n",
    "master_final_df['primary_name_encoded'] = label_encoder_primary_name.fit_transform(master_final_df['primary_name'])\n",
    "\n",
    "# Resulting DataFrame with label encoding for both columns\n",
    "master_final_df.info()\n"
   ]
  },
  {
   "cell_type": "code",
   "execution_count": 46,
   "metadata": {},
   "outputs": [
    {
     "name": "stdout",
     "output_type": "stream",
     "text": [
      "Mean Squared Error: 4065359596403251.50\n",
      "R-squared: 0.42\n"
     ]
    },
    {
     "data": {
      "image/png": "[encoded data removed]",
      "text/plain": [
       "<Figure size 640x480 with 1 Axes>"
      ]
     },
     "metadata": {},
     "output_type": "display_data"
    }
   ],
   "source": [
    "from sklearn.model_selection import train_test_split\n",
    "from sklearn.linear_model import LinearRegression\n",
    "from sklearn.metrics import mean_squared_error, r2_score\n",
    "import matplotlib.pyplot as plt\n",
    "\n",
    "# Load and preprocess the dataset (replace 'df' with your dataset)\n",
    "# Ensure that 'budget' and 'revenue' are numerical columns.\n",
    "# Encode categorical variables like genres and directors.\n",
    "\n",
    "# Split the data into training and testing sets\n",
    "x = master_final_df[['budget', 'genres_encoded', 'primary_name_encoded']]  # Features\n",
    "y = master_final_df['gross']  # Target variable\n",
    "x_train, x_test, y_train, y_test = train_test_split(x, y, test_size=0.2, random_state=42)\n",
    "\n",
    "# Create and train a linear regression model\n",
    "model = LinearRegression()\n",
    "model.fit(x_train, y_train)\n",
    "\n",
    "# Make predictions on the test set\n",
    "y_pred = model.predict(x_test)\n",
    "\n",
    "# Evaluate the model\n",
    "mae = mean_squared_error(y_test, y_pred)\n",
    "r_squared = r2_score(y_test, y_pred)\n",
    "print(f\"Mean Squared Error: {mae:.2f}\")\n",
    "print(f\"R-squared: {r_squared:.2f}\")\n",
    "\n",
    "# Visualize predictions vs. actual values\n",
    "plt.scatter(y_test, y_pred)\n",
    "plt.xlabel(\"Actual Revenue\")\n",
    "plt.ylabel(\"Predicted Revenue\")\n",
    "plt.title(\"Actual vs. Predicted Revenue\")\n",
    "plt.show()"
   ]
  },
  {
   "cell_type": "markdown",
   "metadata": {},
   "source": [
    "## Analysis by Namsoo"
   ]
  },
  {
   "cell_type": "markdown",
   "metadata": {},
   "source": []
  },
  {
   "cell_type": "markdown",
   "metadata": {},
   "source": [
    "# Conclusions"
   ]
  },
  {
   "cell_type": "markdown",
   "metadata": {},
   "source": [
    "# Next steps"
   ]
  },
  {
   "cell_type": "markdown",
   "metadata": {},
   "source": []
  }
 ],
 "metadata": {
  "kernelspec": {
   "display_name": "Python (learn-env)",
   "language": "python",
   "name": "learn-env"
  },
  "language_info": {
   "codemirror_mode": {
    "name": "ipython",
    "version": 3
   },
   "file_extension": ".py",
   "mimetype": "text/x-python",
   "name": "python",
   "nbconvert_exporter": "python",
   "pygments_lexer": "ipython3",
   "version": "3.9.18"
  },
  "orig_nbformat": 4
 },
 "nbformat": 4,
 "nbformat_minor": 2
}
