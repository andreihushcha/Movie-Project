{
 "cells": [
  {
   "cell_type": "markdown",
   "metadata": {},
   "source": [
    "YAY!! I set up github and started a notebook. WOHOO!"
   ]
  },
  {
   "cell_type": "code",
   "execution_count": null,
   "metadata": {},
   "outputs": [],
   "source": []
  }
 ],
 "metadata": {
  "language_info": {
   "name": "python"
  }
 },
 "nbformat": 4,
 "nbformat_minor": 2
}
